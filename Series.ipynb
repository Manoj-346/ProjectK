{
  "nbformat": 4,
  "nbformat_minor": 0,
  "metadata": {
    "colab": {
      "provenance": [],
      "authorship_tag": "ABX9TyOMfzz6TY/KPZMttNK0Emiz",
      "include_colab_link": true
    },
    "kernelspec": {
      "name": "python3",
      "display_name": "Python 3"
    },
    "language_info": {
      "name": "python"
    }
  },
  "cells": [
    {
      "cell_type": "markdown",
      "metadata": {
        "id": "view-in-github",
        "colab_type": "text"
      },
      "source": [
        "<a href=\"https://colab.research.google.com/github/Manoj-346/Death-Note/blob/main/Series.ipynb\" target=\"_parent\"><img src=\"https://colab.research.google.com/assets/colab-badge.svg\" alt=\"Open In Colab\"/></a>"
      ]
    },
    {
      "cell_type": "code",
      "execution_count": null,
      "metadata": {
        "id": "F-MA0KlvxVV9"
      },
      "outputs": [],
      "source": []
    },
    {
      "cell_type": "code",
      "source": [
        "import pandas as pd\n",
        "import numpy as np\n",
        "ser = pd.Series()\n",
        "print(ser)\n",
        "data = np.array(['g', 'e', 'e', 'k', 's'])\n",
        "ser = pd.Series(data)\n",
        "print(ser)\n",
        "print(ser[3])\n"
      ],
      "metadata": {
        "colab": {
          "base_uri": "https://localhost:8080/"
        },
        "id": "4_idd_1Rxhng",
        "outputId": "e6d9b1d5-e142-456f-9a03-0b62e4a99078"
      },
      "execution_count": null,
      "outputs": [
        {
          "output_type": "stream",
          "name": "stdout",
          "text": [
            "Series([], dtype: float64)\n",
            "0    g\n",
            "1    e\n",
            "2    e\n",
            "3    k\n",
            "4    s\n",
            "dtype: object\n",
            "k\n"
          ]
        },
        {
          "output_type": "stream",
          "name": "stderr",
          "text": [
            "<ipython-input-10-a7c056d858a5>:3: FutureWarning: The default dtype for empty Series will be 'object' instead of 'float64' in a future version. Specify a dtype explicitly to silence this warning.\n",
            "  ser = pd.Series()\n"
          ]
        }
      ]
    },
    {
      "cell_type": "code",
      "source": [
        "import pandas as pd\n",
        "import numpy as np\n",
        "# Creating empty series\n",
        "#ser = pd.Series()\n",
        "#print(ser)\n",
        "# simple array\n",
        "data = np.array([\"hello\",\"every\",\"one\"])\n",
        "ser = pd.Series(data)\n",
        "print(ser)\n",
        "print(ser[1][3])\n"
      ],
      "metadata": {
        "colab": {
          "base_uri": "https://localhost:8080/"
        },
        "id": "uO8NDYrwyIkg",
        "outputId": "5c240917-185d-4f4d-ce77-43f9d4dd7aad"
      },
      "execution_count": null,
      "outputs": [
        {
          "output_type": "stream",
          "name": "stdout",
          "text": [
            "0    hello\n",
            "1    every\n",
            "2      one\n",
            "dtype: object\n",
            "r\n"
          ]
        }
      ]
    },
    {
      "cell_type": "code",
      "source": [
        "import pandas as pd\n",
        "import numpy as np\n",
        "l=[10,20,30]\n",
        "ser = pd.Series(l,index=[1,2,3])\n",
        "print(ser)\n",
        "print(ser[1])\n"
      ],
      "metadata": {
        "colab": {
          "base_uri": "https://localhost:8080/"
        },
        "id": "MA6gWCx9yZ3V",
        "outputId": "507ff4da-571e-4fb4-ed38-2f04142204cd"
      },
      "execution_count": null,
      "outputs": [
        {
          "output_type": "stream",
          "name": "stdout",
          "text": [
            "1    10\n",
            "2    20\n",
            "3    30\n",
            "dtype: int64\n",
            "10\n"
          ]
        }
      ]
    },
    {
      "cell_type": "code",
      "source": [
        "import pandas as pd\n",
        "import numpy as np\n",
        "d={\"name\":\"suresh\",\"rno\":534,\"perc\":89.0}\n",
        "ser = pd.Series(d)\n",
        "print(ser)\n",
        "print(ser[\"rno\"])\n"
      ],
      "metadata": {
        "colab": {
          "base_uri": "https://localhost:8080/"
        },
        "id": "RgrLKIXVygJt",
        "outputId": "3badf1f3-11e4-4498-9e40-44b6b02835d2"
      },
      "execution_count": null,
      "outputs": [
        {
          "output_type": "stream",
          "name": "stdout",
          "text": [
            "name    suresh\n",
            "rno        534\n",
            "perc      89.0\n",
            "dtype: object\n",
            "534\n"
          ]
        }
      ]
    },
    {
      "cell_type": "code",
      "source": [
        "import pandas as pd\n",
        "import numpy as np\n",
        "d=[(\"name\",\"suresh\"),(\"rno\",534),(\"perc\",89.0)]\n",
        "ser = pd.Series(d)\n",
        "print(ser)\n",
        "print(ser[1][1])\n"
      ],
      "metadata": {
        "colab": {
          "base_uri": "https://localhost:8080/"
        },
        "id": "4hA5qBwhyoud",
        "outputId": "b670eed2-858c-45f9-b0e0-6487ed29257d"
      },
      "execution_count": null,
      "outputs": [
        {
          "output_type": "stream",
          "name": "stdout",
          "text": [
            "0    (name, suresh)\n",
            "1        (rno, 534)\n",
            "2      (perc, 89.0)\n",
            "dtype: object\n",
            "534\n"
          ]
        }
      ]
    },
    {
      "cell_type": "code",
      "source": [
        "import pandas as pd\n",
        "# assign values to lists.\n",
        "data = {'name':['xyz','abc','lmn'],'rolln':[512,534,546],'perc':[78.5,79.8,88.0]}\n",
        "# Creates DataFrame.\n",
        "df = pd.DataFrame(data)\n",
        "# Print the data\n",
        "print(df)\n"
      ],
      "metadata": {
        "colab": {
          "base_uri": "https://localhost:8080/"
        },
        "id": "KPWjlQVRy4nk",
        "outputId": "66d4c990-75c3-4039-d66e-11de6841eff7"
      },
      "execution_count": null,
      "outputs": [
        {
          "output_type": "stream",
          "name": "stdout",
          "text": [
            "  name  rolln  perc\n",
            "0  xyz    512  78.5\n",
            "1  abc    534  79.8\n",
            "2  lmn    546  88.0\n"
          ]
        }
      ]
    },
    {
      "cell_type": "code",
      "source": [
        "import pandas as pd\n",
        "# assign values to lists.\n",
        "data = [{'A': 10, 'B': 20, 'C':30}, {'x':100, 'y': 200, 'z': 300}]\n",
        "# Creates DataFrame.\n",
        "df = pd.DataFrame(data)\n",
        "# Print the data\n",
        "print(df)\n"
      ],
      "metadata": {
        "colab": {
          "base_uri": "https://localhost:8080/"
        },
        "id": "unq8CeY1zA5r",
        "outputId": "3d927723-f299-47d2-8e66-07b1ee5de4d1"
      },
      "execution_count": null,
      "outputs": [
        {
          "output_type": "stream",
          "name": "stdout",
          "text": [
            "      A     B     C      x      y      z\n",
            "0  10.0  20.0  30.0    NaN    NaN    NaN\n",
            "1   NaN   NaN   NaN  100.0  200.0  300.0\n"
          ]
        }
      ]
    },
    {
      "cell_type": "code",
      "source": [
        "#Load Data From excel file.\n",
        "import pandas as pd\n",
        "# Creates DataFrame.\n",
        "df = pd.read_excel(\"E:\\\\Academics\\\\Python\\\\file1.xlsx”)\n",
        "# Print the data\n",
        "print(df)\n"
      ],
      "metadata": {
        "colab": {
          "base_uri": "https://localhost:8080/",
          "height": 110
        },
        "id": "tRNZwOzpzITT",
        "outputId": "1f4c7381-ecea-450b-ffd5-f265360e5985"
      },
      "execution_count": null,
      "outputs": [
        {
          "output_type": "error",
          "ename": "SyntaxError",
          "evalue": "unterminated string literal (detected at line 4) (<ipython-input-9-66a9fbbe3bfa>, line 4)",
          "traceback": [
            "\u001b[0;36m  File \u001b[0;32m\"<ipython-input-9-66a9fbbe3bfa>\"\u001b[0;36m, line \u001b[0;32m4\u001b[0m\n\u001b[0;31m    df = pd.read_excel(\"E:\\\\Academics\\\\Python\\\\file1.xlsx”)\u001b[0m\n\u001b[0m                       ^\u001b[0m\n\u001b[0;31mSyntaxError\u001b[0m\u001b[0;31m:\u001b[0m unterminated string literal (detected at line 4)\n"
          ]
        }
      ]
    },
    {
      "cell_type": "code",
      "source": [
        "import pandas\n",
        "mydataset = {\n",
        "  'section': [\"section1\", \"section2\", \"section3\"],\n",
        "  'strength': [60, 67, 62]\n",
        "}\n",
        "\n",
        "v = pandas.DataFrame(mydataset)\n",
        "print(v)\n"
      ],
      "metadata": {
        "colab": {
          "base_uri": "https://localhost:8080/"
        },
        "id": "zGHr8u75zwCz",
        "outputId": "5510cadb-53d6-412d-bed2-83300598d6bf"
      },
      "execution_count": null,
      "outputs": [
        {
          "output_type": "stream",
          "name": "stdout",
          "text": [
            "    section  strength\n",
            "0  section1        60\n",
            "1  section2        67\n",
            "2  section3        62\n"
          ]
        }
      ]
    },
    {
      "cell_type": "code",
      "source": [
        "import pandas as pd\n",
        "\n",
        "a = [6, 5, 7]\n",
        "\n",
        "var = pd.Series(a)\n",
        "\n",
        "print(var)\n"
      ],
      "metadata": {
        "colab": {
          "base_uri": "https://localhost:8080/"
        },
        "id": "GMgEMJ9h4tr-",
        "outputId": "afd1eb13-f1c0-46f2-886f-8b8508403cdf"
      },
      "execution_count": null,
      "outputs": [
        {
          "output_type": "stream",
          "name": "stdout",
          "text": [
            "0    6\n",
            "1    5\n",
            "2    7\n",
            "dtype: int64\n"
          ]
        }
      ]
    },
    {
      "cell_type": "code",
      "source": [
        "import pandas as pd\n",
        "\n",
        "a = [6, 5, 7]\n",
        "\n",
        "var = pd.Series(a, index = [\"x\", \"y\", \"z\"])\n",
        "\n",
        "print(var)\n"
      ],
      "metadata": {
        "colab": {
          "base_uri": "https://localhost:8080/"
        },
        "id": "lmGno_TX4wqs",
        "outputId": "d9b5cf0b-590e-42cd-a0cd-d767efc15baf"
      },
      "execution_count": null,
      "outputs": [
        {
          "output_type": "stream",
          "name": "stdout",
          "text": [
            "x    6\n",
            "y    5\n",
            "z    7\n",
            "dtype: int64\n"
          ]
        }
      ]
    },
    {
      "cell_type": "code",
      "source": [
        "import pandas as pd\n",
        "calories = {\"sub1\": 70, \"sub2\": 80, \"sub3\": 90}\n",
        "var = pd.Series(calories)\n",
        "print(var)\n"
      ],
      "metadata": {
        "colab": {
          "base_uri": "https://localhost:8080/"
        },
        "id": "lqaRvlxE45Z7",
        "outputId": "8bf8d9d2-5060-4e7d-8c61-e9c5e60be587"
      },
      "execution_count": null,
      "outputs": [
        {
          "output_type": "stream",
          "name": "stdout",
          "text": [
            "sub1    70\n",
            "sub2    80\n",
            "sub3    90\n",
            "dtype: int64\n"
          ]
        }
      ]
    },
    {
      "cell_type": "code",
      "source": [
        "import pandas as pd\n",
        "\n",
        "a = [6, 5, 7]\n",
        "b=  [\"x\", \"y\", \"z\"]\n",
        "\n",
        "var1 = pd.Series(a, index =b)\n",
        "print(var1)\n",
        "\n",
        "var2 = pd.Series(a, index =b)\n",
        "print(var2[\"y\"])\n"
      ],
      "metadata": {
        "colab": {
          "base_uri": "https://localhost:8080/"
        },
        "id": "SgE6qnpq55Jj",
        "outputId": "9e9ad6a7-2164-4942-b5e0-01be0fe2bb93"
      },
      "execution_count": null,
      "outputs": [
        {
          "output_type": "stream",
          "name": "stdout",
          "text": [
            "x    6\n",
            "y    5\n",
            "z    7\n",
            "dtype: int64\n",
            "5\n"
          ]
        }
      ]
    },
    {
      "cell_type": "code",
      "source": [
        "import pandas\n",
        "mydataset = {\n",
        "  \"section\": [\"section1\", \"section2\", \"section3\"],\n",
        "  \"strength\": [60, 67, 62]\n",
        "}\n",
        "v = pandas.DataFrame(mydataset)\n",
        "print(v)\n",
        "#refer to the row index:\n",
        "print(v.loc[1])\n",
        "#use v.loc[[0,1]] to print two rows\n"
      ],
      "metadata": {
        "colab": {
          "base_uri": "https://localhost:8080/"
        },
        "id": "wHX0xn0U6LiB",
        "outputId": "5a8add20-fd2a-4a8f-fa5c-3f83b7ad510a"
      },
      "execution_count": null,
      "outputs": [
        {
          "output_type": "stream",
          "name": "stdout",
          "text": [
            "    section  strength\n",
            "0  section1        60\n",
            "1  section2        67\n",
            "2  section3        62\n",
            "section     section2\n",
            "strength          67\n",
            "Name: 1, dtype: object\n"
          ]
        }
      ]
    },
    {
      "cell_type": "code",
      "source": [],
      "metadata": {
        "id": "tpQXY5Kc6nWQ"
      },
      "execution_count": null,
      "outputs": []
    }
  ]
}