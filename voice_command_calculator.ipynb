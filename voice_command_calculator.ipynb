{
  "nbformat": 4,
  "nbformat_minor": 0,
  "metadata": {
    "colab": {
      "provenance": [],
      "authorship_tag": "ABX9TyMXeBcNjvBmvPqoLWh4ocyE",
      "include_colab_link": true
    },
    "kernelspec": {
      "name": "python3",
      "display_name": "Python 3"
    },
    "language_info": {
      "name": "python"
    }
  },
  "cells": [
    {
      "cell_type": "markdown",
      "metadata": {
        "id": "view-in-github",
        "colab_type": "text"
      },
      "source": [
        "<a href=\"https://colab.research.google.com/github/Manoj-346/Death-Note/blob/main/voice_command_calculator.ipynb\" target=\"_parent\"><img src=\"https://colab.research.google.com/assets/colab-badge.svg\" alt=\"Open In Colab\"/></a>"
      ]
    },
    {
      "cell_type": "code",
      "source": [
        "!pip install gTTS"
      ],
      "metadata": {
        "colab": {
          "base_uri": "https://localhost:8080/"
        },
        "id": "8ollmB0H5SpV",
        "outputId": "1f730e0d-f751-416b-e014-7f4d279c0ef0"
      },
      "execution_count": null,
      "outputs": [
        {
          "output_type": "stream",
          "name": "stdout",
          "text": [
            "Collecting gTTS\n",
            "  Downloading gTTS-2.5.4-py3-none-any.whl.metadata (4.1 kB)\n",
            "Requirement already satisfied: requests<3,>=2.27 in /usr/local/lib/python3.11/dist-packages (from gTTS) (2.32.3)\n",
            "Collecting click<8.2,>=7.1 (from gTTS)\n",
            "  Downloading click-8.1.8-py3-none-any.whl.metadata (2.3 kB)\n",
            "Requirement already satisfied: charset-normalizer<4,>=2 in /usr/local/lib/python3.11/dist-packages (from requests<3,>=2.27->gTTS) (3.4.2)\n",
            "Requirement already satisfied: idna<4,>=2.5 in /usr/local/lib/python3.11/dist-packages (from requests<3,>=2.27->gTTS) (3.10)\n",
            "Requirement already satisfied: urllib3<3,>=1.21.1 in /usr/local/lib/python3.11/dist-packages (from requests<3,>=2.27->gTTS) (2.4.0)\n",
            "Requirement already satisfied: certifi>=2017.4.17 in /usr/local/lib/python3.11/dist-packages (from requests<3,>=2.27->gTTS) (2025.4.26)\n",
            "Downloading gTTS-2.5.4-py3-none-any.whl (29 kB)\n",
            "Downloading click-8.1.8-py3-none-any.whl (98 kB)\n",
            "\u001b[2K   \u001b[90m━━━━━━━━━━━━━━━━━━━━━━━━━━━━━━━━━━━━━━━━\u001b[0m \u001b[32m98.2/98.2 kB\u001b[0m \u001b[31m3.0 MB/s\u001b[0m eta \u001b[36m0:00:00\u001b[0m\n",
            "\u001b[?25hInstalling collected packages: click, gTTS\n",
            "  Attempting uninstall: click\n",
            "    Found existing installation: click 8.2.0\n",
            "    Uninstalling click-8.2.0:\n",
            "      Successfully uninstalled click-8.2.0\n",
            "Successfully installed click-8.1.8 gTTS-2.5.4\n"
          ]
        }
      ]
    },
    {
      "cell_type": "code",
      "source": [
        "!pip install SpeechRecognition pydub"
      ],
      "metadata": {
        "colab": {
          "base_uri": "https://localhost:8080/"
        },
        "id": "J3TiGmpq6Ftc",
        "outputId": "ce97af33-6163-4aa6-9f78-f65b33a63c89"
      },
      "execution_count": null,
      "outputs": [
        {
          "output_type": "stream",
          "name": "stdout",
          "text": [
            "Collecting SpeechRecognition\n",
            "  Downloading speechrecognition-3.14.3-py3-none-any.whl.metadata (30 kB)\n",
            "Collecting pydub\n",
            "  Downloading pydub-0.25.1-py2.py3-none-any.whl.metadata (1.4 kB)\n",
            "Requirement already satisfied: typing-extensions in /usr/local/lib/python3.11/dist-packages (from SpeechRecognition) (4.13.2)\n",
            "Downloading speechrecognition-3.14.3-py3-none-any.whl (32.9 MB)\n",
            "\u001b[2K   \u001b[90m━━━━━━━━━━━━━━━━━━━━━━━━━━━━━━━━━━━━━━━━\u001b[0m \u001b[32m32.9/32.9 MB\u001b[0m \u001b[31m21.5 MB/s\u001b[0m eta \u001b[36m0:00:00\u001b[0m\n",
            "\u001b[?25hDownloading pydub-0.25.1-py2.py3-none-any.whl (32 kB)\n",
            "Installing collected packages: pydub, SpeechRecognition\n",
            "Successfully installed SpeechRecognition-3.14.3 pydub-0.25.1\n"
          ]
        }
      ]
    },
    {
      "cell_type": "code",
      "source": [
        "from pydub import AudioSegment\n",
        "mp3_file='/content/Tuesday at 15-04 (online-audio-converter.com).mp3'\n",
        "wav_file='/content/Tuesday at 15-04 (online-audio-converter.com).wav'\n",
        "Audio = AudioSegment.from_mp3(mp3_file)\n",
        "Audio.export(wav_file, format=\"wav\")"
      ],
      "metadata": {
        "colab": {
          "base_uri": "https://localhost:8080/"
        },
        "id": "XbOeyxvk6MwT",
        "outputId": "7b825dd9-1aca-4b16-8f26-b9bb3224c239"
      },
      "execution_count": null,
      "outputs": [
        {
          "output_type": "execute_result",
          "data": {
            "text/plain": [
              "<_io.BufferedRandom name='/content/Tuesday at 15-04 (online-audio-converter.com).wav'>"
            ]
          },
          "metadata": {},
          "execution_count": 8
        }
      ]
    },
    {
      "cell_type": "code",
      "source": [
        "import speech_recognition as sr\n",
        "reco = sr.Recognizer()\n",
        "with sr.AudioFile('/content/Tuesday at 15-04 (online-audio-converter.com).wav') as source:\n",
        "    audio = reco.record(source)\n",
        "    text = reco.recognize_google(audio)\n",
        "    print(text)"
      ],
      "metadata": {
        "colab": {
          "base_uri": "https://localhost:8080/"
        },
        "id": "dxT_6drL7ip0",
        "outputId": "7045f486-4808-46bc-fe17-094392f14384"
      },
      "execution_count": null,
      "outputs": [
        {
          "output_type": "stream",
          "name": "stdout",
          "text": [
            "5 + 3 - 2\n"
          ]
        }
      ]
    },
    {
      "cell_type": "code",
      "source": [
        "import speech_recognition as sr\n",
        "from gtts import gTTS\n",
        "from IPython.display import Audio"
      ],
      "metadata": {
        "id": "KcH7d7VS7z2T"
      },
      "execution_count": null,
      "outputs": []
    },
    {
      "cell_type": "code",
      "source": [
        "reco = sr.Recognizer()\n",
        "with sr.AudioFile('/content/Tuesday at 15-04 (online-audio-converter.com).wav') as source:\n",
        "  audio = reco.record(source)\n",
        "  text = reco.recognize_google(audio)\n",
        "  print(text)"
      ],
      "metadata": {
        "colab": {
          "base_uri": "https://localhost:8080/"
        },
        "id": "QwVmkuT49_9s",
        "outputId": "fbcba47d-b61e-4499-f385-0e65f651cc3f"
      },
      "execution_count": null,
      "outputs": [
        {
          "output_type": "stream",
          "name": "stdout",
          "text": [
            "5 + 3 - 2\n"
          ]
        }
      ]
    },
    {
      "cell_type": "code",
      "source": [
        "print(\"result:\", eval(text))"
      ],
      "metadata": {
        "colab": {
          "base_uri": "https://localhost:8080/"
        },
        "id": "PuT6pQGS-ezk",
        "outputId": "810f14bf-1d87-4276-d96b-110db3195152"
      },
      "execution_count": null,
      "outputs": [
        {
          "output_type": "stream",
          "name": "stdout",
          "text": [
            "result: 6\n"
          ]
        }
      ]
    },
    {
      "cell_type": "code",
      "metadata": {
        "colab": {
          "base_uri": "https://localhost:8080/"
        },
        "id": "c7ec67e7",
        "outputId": "b9ab1214-5361-4451-a6fa-7a3bdb408df5"
      },
      "source": [
        "# Load the original speech audio and the result audio\n",
        "original_audio = AudioSegment.from_mp3(\"result.mp3\")\n",
        "result_audio = AudioSegment.from_mp3(\"calculation_result.mp3\")\n",
        "\n",
        "# Concatenate the audio segments (you can add a pause between them if desired)\n",
        "combined_audio = original_audio + result_audio # Add original audio and result audio\n",
        "\n",
        "# Save the combined audio\n",
        "combined_audio.export(\"combined_audio.mp3\", format=\"mp3\")"
      ],
      "execution_count": null,
      "outputs": [
        {
          "output_type": "execute_result",
          "data": {
            "text/plain": [
              "<_io.BufferedRandom name='combined_audio.mp3'>"
            ]
          },
          "metadata": {},
          "execution_count": 22
        }
      ]
    },
    {
      "cell_type": "code",
      "metadata": {
        "colab": {
          "base_uri": "https://localhost:8080/",
          "height": 75
        },
        "id": "8a3447ee",
        "outputId": "b3fb5b7a-e7ad-4465-e9f3-8f2361026d29"
      },
      "source": [
        "# Play the combined audio\n",
        "Audio(\"combined_audio.mp3\")"
      ],
      "execution_count": null,
      "outputs": [
        {
          "output_type": "execute_result",
          "data": {
            "text/plain": [
              "<IPython.lib.display.Audio object>"
            ],
            "text/html": [
              "\n",
              "                <audio  controls=\"controls\" >\n",
              "                    <source src=\"data:audio/mpeg;base64,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\" type=\"audio/mpeg\" />\n",
              "                    Your browser does not support the audio element.\n",
              "                </audio>\n",
              "              "
            ]
          },
          "metadata": {},
          "execution_count": 23
        }
      ]
    }
  ]
}